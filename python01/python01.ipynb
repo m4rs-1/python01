{
 "cells": [
  {
   "cell_type": "code",
   "execution_count": 6,
   "metadata": {},
   "outputs": [
    {
     "name": "stdout",
     "output_type": "stream",
     "text": [
      "miau x2\n"
     ]
    }
   ],
   "source": [
    "print(\"miau x2\")"
   ]
  },
  {
   "cell_type": "code",
   "execution_count": 7,
   "metadata": {},
   "outputs": [],
   "source": [
    "LastName = \"josefino\""
   ]
  },
  {
   "cell_type": "code",
   "execution_count": 22,
   "metadata": {},
   "outputs": [],
   "source": [
    "Last_Name = 'rujano'"
   ]
  },
  {
   "cell_type": "code",
   "execution_count": 8,
   "metadata": {},
   "outputs": [],
   "source": [
    "firstname = 'josefino'"
   ]
  },
  {
   "cell_type": "code",
   "execution_count": 9,
   "metadata": {},
   "outputs": [
    {
     "ename": "SyntaxError",
     "evalue": "cannot assign to expression here. Maybe you meant '==' instead of '='? (2332861319.py, line 1)",
     "output_type": "error",
     "traceback": [
      "\u001b[1;36m  Cell \u001b[1;32mIn[9], line 1\u001b[1;36m\u001b[0m\n\u001b[1;33m    firs-tname = 'josefino'\u001b[0m\n\u001b[1;37m    ^\u001b[0m\n\u001b[1;31mSyntaxError\u001b[0m\u001b[1;31m:\u001b[0m cannot assign to expression here. Maybe you meant '==' instead of '='?\n"
     ]
    }
   ],
   "source": [
    "firs-tname = 'josefino'"
   ]
  },
  {
   "cell_type": "code",
   "execution_count": 16,
   "metadata": {},
   "outputs": [
    {
     "name": "stdout",
     "output_type": "stream",
     "text": [
      "Suma: 30\n",
      "Resta: -10\n",
      "Multiplicación: 200\n",
      "División: 0.5\n"
     ]
    }
   ],
   "source": [
    "# OPERADORES MATEMATICOS\n",
    "number_1 = 10\n",
    "number_2 = 20\n",
    "\n",
    "# suma\n",
    "sum_two = number_1 + number_2\n",
    "print(\"Suma:\", sum_two)\n",
    "\n",
    "# resta\n",
    "resta = number_1 - number_2\n",
    "print(\"Resta:\", resta)\n",
    "\n",
    "# multiplicación\n",
    "multi = number_1 * number_2\n",
    "print(\"Multiplicación:\", multi)\n",
    "\n",
    "# división\n",
    "div = number_1 / number_2\n",
    "print(\"División:\", div)"
   ]
  },
  {
   "cell_type": "code",
   "execution_count": 28,
   "metadata": {},
   "outputs": [
    {
     "name": "stdout",
     "output_type": "stream",
     "text": [
      "Suma: 23.58\n",
      "Resta: -0.9199999999999999\n",
      "Multiplicación: 138.7925\n",
      "División: 0.9248979591836735\n"
     ]
    }
   ],
   "source": [
    "# OPERADORES MATEMATICOS\n",
    "number_1 = input( \"Ingrese el primer número\" )\n",
    "number_1 = float(number_1)\n",
    "\n",
    "number_2 = input( \"Ingrese el segundo número\" )\n",
    "number_2 = float(number_2)\n",
    "\n",
    "# suma\n",
    "sum_two = number_1 + number_2\n",
    "print(\"Suma:\", sum_two)\n",
    "\n",
    "# resta\n",
    "resta = number_1 - number_2\n",
    "print(\"Resta:\", resta)\n",
    "\n",
    "# multiplicación\n",
    "multi = number_1 * number_2\n",
    "print(\"Multiplicación:\", multi)\n",
    "\n",
    "# división\n",
    "div = number_1 / number_2\n",
    "print(\"División:\", div)"
   ]
  },
  {
   "cell_type": "code",
   "execution_count": 26,
   "metadata": {},
   "outputs": [
    {
     "data": {
      "text/plain": [
       "'1122'"
      ]
     },
     "execution_count": 26,
     "metadata": {},
     "output_type": "execute_result"
    }
   ],
   "source": [
    "\"11\" + \"22\""
   ]
  },
  {
   "cell_type": "code",
   "execution_count": 27,
   "metadata": {},
   "outputs": [
    {
     "data": {
      "text/plain": [
       "'aabb'"
      ]
     },
     "execution_count": 27,
     "metadata": {},
     "output_type": "execute_result"
    }
   ],
   "source": [
    "\"aa\" + \"bb\""
   ]
  },
  {
   "cell_type": "code",
   "execution_count": 35,
   "metadata": {},
   "outputs": [
    {
     "name": "stdout",
     "output_type": "stream",
     "text": [
      "mayor\n"
     ]
    }
   ],
   "source": [
    "# condicional\n",
    "# operadores de comparación\n",
    "# mayor >\n",
    "# menor <\n",
    "# mayor igual >=\n",
    "# menor igual <=\n",
    "# igual? ==\n",
    "# diferente !=\n",
    "\n",
    "number_1 = int( input (\"número 1:\") )\n",
    "number_2 = int( input (\"número 2:\") )\n",
    "\n",
    "if number_1 > number_2:\n",
    "    print(\"mayor\") \n",
    "else:\n",
    "    print(\"menor\")"
   ]
  },
  {
   "cell_type": "code",
   "execution_count": 30,
   "metadata": {},
   "outputs": [
    {
     "data": {
      "text/plain": [
       "False"
      ]
     },
     "execution_count": 30,
     "metadata": {},
     "output_type": "execute_result"
    }
   ],
   "source": [
    "2 > 2"
   ]
  },
  {
   "cell_type": "code",
   "execution_count": 36,
   "metadata": {},
   "outputs": [
    {
     "name": "stdout",
     "output_type": "stream",
     "text": [
      "Suma: 30.0\n",
      "Resta: 10.0\n",
      "Multiplicación: 200.0\n",
      "División: 2.0\n"
     ]
    }
   ],
   "source": [
    "# OPERADORES MATEMATICOS\n",
    "number_1 = float (input( \"Ingrese el primer número\" ))\n",
    "\n",
    "number_2 = float (input( \"Ingrese el segundo número\" ))\n",
    "\n",
    "operation = input(\"Seleccione su operación: suma, resta, multi, div\")\n",
    "\n",
    "\n",
    "# suma\n",
    "sum_two = number_1 + number_2\n",
    "print(\"Suma:\", sum_two)\n",
    "\n",
    "# resta\n",
    "resta = number_1 - number_2\n",
    "print(\"Resta:\", resta)\n",
    "\n",
    "# multiplicación\n",
    "multi = number_1 * number_2\n",
    "print(\"Multiplicación:\", multi)\n",
    "\n",
    "# división\n",
    "div = number_1 / number_2\n",
    "print(\"División:\", div)"
   ]
  },
  {
   "cell_type": "code",
   "execution_count": 18,
   "metadata": {},
   "outputs": [
    {
     "name": "stdout",
     "output_type": "stream",
     "text": [
      "División: error de sintaxis\n"
     ]
    }
   ],
   "source": [
    "# OPERADORES MATEMATICOS\n",
    "number_1 = float (input( \"Ingrese el primer número\" ))\n",
    "\n",
    "number_2 = float (input( \"Ingrese el segundo número\" ))\n",
    "\n",
    "operation = input(\"Seleccione su operación: suma, resta, multi, div\")\n",
    "\n",
    "# selección de operación\n",
    "\n",
    "\n",
    "# suma\n",
    "if operation == \"suma\":\n",
    "    resultado = number_1 + number_2\n",
    "    print(\"Suma:\", resultado)\n",
    "\n",
    "# resta\n",
    "elif operation == \"resta\":\n",
    "    resultado = number_1 - number_2\n",
    "    print(\"Resta:\", resultado)\n",
    "\n",
    "# multiplicación\n",
    "elif operation == \"multi\":\n",
    "    resultado = number_1 * number_2\n",
    "    print(\"Multiplicación:\", resultado)\n",
    "\n",
    "# división\n",
    "elif operation == \"div\":\n",
    "   if number_2 != 0:\n",
    "    resultado = number_1 / number_2\n",
    "    print(\"División:\", resultado)\n",
    "   else: \n",
    "    print(\"División: error de sintaxis\")\n",
    "else:\n",
    "    print(\"operación no válida\")\n"
   ]
  },
  {
   "cell_type": "code",
   "execution_count": null,
   "metadata": {},
   "outputs": [],
   "source": [
    "# OPERADORES MATEMATICOS\n",
    "# condicionales encadenados\n",
    "\n",
    "number_1 = float (input( \"Ingrese el primer número\" ))\n",
    "\n",
    "number_2 = float (input( \"Ingrese el segundo número\" ))\n",
    "\n",
    "operation = input(\"Seleccione su operación: suma, resta, multi, div\")\n",
    "\n",
    "# selección de operación\n",
    "\n",
    "\n",
    "# suma\n",
    "if operation == \"suma\":\n",
    "    resultado = number_1 + number_2\n",
    "    print(\"Suma:\", resultado)\n",
    "\n",
    "# resta\n",
    "elif operation == \"resta\":\n",
    "    resultado = number_1 - number_2\n",
    "    print(\"Resta:\", resultado)\n",
    "\n",
    "# multiplicación\n",
    "elif operation == \"multi\":\n",
    "    resultado = number_1 * number_2\n",
    "    print(\"Multiplicación:\", resultado)\n",
    "\n",
    "# división\n",
    "elif operation == \"div\":\n",
    "   if number_2 != 0:\n",
    "    resultado = number_1 / number_2\n",
    "    print(\"División:\", resultado)\n",
    "else: \n",
    "    print(\"operación no válida\")"
   ]
  },
  {
   "cell_type": "code",
   "execution_count": 13,
   "metadata": {},
   "outputs": [],
   "source": [
    "# Ciclos finitos\n",
    "# listas\n",
    "# cadenas\n",
    "# 20\n",
    "# 12.33\n",
    "\n",
    "names = [\"jose\", \"maria\", \"juan\"]\n",
    "\n",
    "# indice 0, 1, 2, ...\n",
    "numbers = [10, 20, 30.5]"
   ]
  },
  {
   "cell_type": "code",
   "execution_count": 3,
   "metadata": {},
   "outputs": [
    {
     "name": "stdout",
     "output_type": "stream",
     "text": [
      "['jose', 'maria', 'juan']\n"
     ]
    }
   ],
   "source": [
    "print (names) "
   ]
  },
  {
   "cell_type": "code",
   "execution_count": 7,
   "metadata": {},
   "outputs": [
    {
     "data": {
      "text/plain": [
       "30.5"
      ]
     },
     "execution_count": 7,
     "metadata": {},
     "output_type": "execute_result"
    }
   ],
   "source": [
    "names[2]\n",
    "numbers[2]"
   ]
  },
  {
   "cell_type": "code",
   "execution_count": 8,
   "metadata": {},
   "outputs": [
    {
     "data": {
      "text/plain": [
       "30.5"
      ]
     },
     "execution_count": 8,
     "metadata": {},
     "output_type": "execute_result"
    }
   ],
   "source": [
    "numbers[-1]"
   ]
  },
  {
   "cell_type": "code",
   "execution_count": 14,
   "metadata": {},
   "outputs": [
    {
     "data": {
      "text/plain": [
       "10"
      ]
     },
     "execution_count": 14,
     "metadata": {},
     "output_type": "execute_result"
    }
   ],
   "source": [
    "numbers[-3]"
   ]
  },
  {
   "cell_type": "code",
   "execution_count": 15,
   "metadata": {},
   "outputs": [],
   "source": [
    "# agregar un elemento en la lista de nombres\n",
    "names.append(\"josefino\")"
   ]
  },
  {
   "cell_type": "code",
   "execution_count": 16,
   "metadata": {},
   "outputs": [
    {
     "data": {
      "text/plain": [
       "['jose', 'maria', 'juan', 'josefino']"
      ]
     },
     "execution_count": 16,
     "metadata": {},
     "output_type": "execute_result"
    }
   ],
   "source": [
    "names"
   ]
  },
  {
   "cell_type": "code",
   "execution_count": 17,
   "metadata": {},
   "outputs": [
    {
     "data": {
      "text/plain": [
       "'jose'"
      ]
     },
     "execution_count": 17,
     "metadata": {},
     "output_type": "execute_result"
    }
   ],
   "source": [
    "names.pop(0)"
   ]
  },
  {
   "cell_type": "code",
   "execution_count": 18,
   "metadata": {},
   "outputs": [
    {
     "data": {
      "text/plain": [
       "['maria', 'juan', 'josefino']"
      ]
     },
     "execution_count": 18,
     "metadata": {},
     "output_type": "execute_result"
    }
   ],
   "source": [
    "names"
   ]
  },
  {
   "cell_type": "code",
   "execution_count": 19,
   "metadata": {},
   "outputs": [
    {
     "data": {
      "text/plain": [
       "'juan'"
      ]
     },
     "execution_count": 19,
     "metadata": {},
     "output_type": "execute_result"
    }
   ],
   "source": [
    "names.pop(1)"
   ]
  },
  {
   "cell_type": "code",
   "execution_count": 20,
   "metadata": {},
   "outputs": [
    {
     "data": {
      "text/plain": [
       "['maria', 'josefino']"
      ]
     },
     "execution_count": 20,
     "metadata": {},
     "output_type": "execute_result"
    }
   ],
   "source": [
    "names"
   ]
  },
  {
   "cell_type": "code",
   "execution_count": 22,
   "metadata": {},
   "outputs": [],
   "source": [
    "# incorporo nombres en mi lista\n",
    "names.append(\"ruperto\")"
   ]
  },
  {
   "cell_type": "code",
   "execution_count": 24,
   "metadata": {},
   "outputs": [
    {
     "data": {
      "text/plain": [
       "['maria', 'josefino', 'ruperto', 'ruperto']"
      ]
     },
     "execution_count": 24,
     "metadata": {},
     "output_type": "execute_result"
    }
   ],
   "source": [
    "names"
   ]
  },
  {
   "cell_type": "code",
   "execution_count": 25,
   "metadata": {},
   "outputs": [],
   "source": [
    "names = ['maria', 'josefino', 'roberto', 'jesus', 'juan']"
   ]
  },
  {
   "cell_type": "code",
   "execution_count": 26,
   "metadata": {},
   "outputs": [
    {
     "data": {
      "text/plain": [
       "['maria', 'josefino', 'roberto', 'jesus', 'juan']"
      ]
     },
     "execution_count": 26,
     "metadata": {},
     "output_type": "execute_result"
    }
   ],
   "source": [
    "names"
   ]
  },
  {
   "cell_type": "code",
   "execution_count": 27,
   "metadata": {},
   "outputs": [],
   "source": [
    "name_1, name_2 = names[0], names[1]"
   ]
  },
  {
   "cell_type": "code",
   "execution_count": 30,
   "metadata": {},
   "outputs": [
    {
     "data": {
      "text/plain": [
       "5"
      ]
     },
     "execution_count": 30,
     "metadata": {},
     "output_type": "execute_result"
    }
   ],
   "source": [
    "len(names)"
   ]
  },
  {
   "cell_type": "code",
   "execution_count": 29,
   "metadata": {},
   "outputs": [
    {
     "name": "stdout",
     "output_type": "stream",
     "text": [
      "maria\n",
      "josefino\n",
      "roberto\n",
      "jesus\n",
      "juan\n"
     ]
    }
   ],
   "source": [
    "# ciclos finitos: for\n",
    "for n in names:\n",
    "    print(n)"
   ]
  },
  {
   "cell_type": "code",
   "execution_count": 34,
   "metadata": {},
   "outputs": [
    {
     "name": "stdout",
     "output_type": "stream",
     "text": [
      "2\n",
      "3\n",
      "4\n",
      "5\n",
      "6\n"
     ]
    }
   ],
   "source": [
    "for n in range(2,7):\n",
    "    print(n)"
   ]
  },
  {
   "cell_type": "code",
   "execution_count": 36,
   "metadata": {},
   "outputs": [
    {
     "name": "stdout",
     "output_type": "stream",
     "text": [
      "0\n",
      "1\n",
      "2\n",
      "3\n",
      "4\n"
     ]
    }
   ],
   "source": [
    "for name in range( len(names) ):\n",
    "    print(name)"
   ]
  },
  {
   "cell_type": "code",
   "execution_count": 38,
   "metadata": {},
   "outputs": [
    {
     "data": {
      "text/plain": [
       "['maria', 'josefino', 'roberto', 'jesus', 'juan']"
      ]
     },
     "execution_count": 38,
     "metadata": {},
     "output_type": "execute_result"
    }
   ],
   "source": [
    "names"
   ]
  },
  {
   "cell_type": "code",
   "execution_count": 39,
   "metadata": {},
   "outputs": [
    {
     "name": "stdout",
     "output_type": "stream",
     "text": [
      "maria\n",
      "josefino\n",
      "roberto\n",
      "jesus\n",
      "juan\n"
     ]
    }
   ],
   "source": [
    "for name in range( len(names) ):\n",
    "    print(names[name])"
   ]
  },
  {
   "cell_type": "code",
   "execution_count": 45,
   "metadata": {},
   "outputs": [
    {
     "name": "stdout",
     "output_type": "stream",
     "text": [
      "encontre a juan en la posicion 4\n"
     ]
    }
   ],
   "source": [
    "for name in range( len(names) ):\n",
    "    if names[name] == \"juan\":\n",
    "        print(\"encontre a juan en la posicion\", name)"
   ]
  },
  {
   "cell_type": "code",
   "execution_count": 4,
   "metadata": {},
   "outputs": [
    {
     "name": "stdout",
     "output_type": "stream",
     "text": [
      "Epale\n",
      "Epale\n",
      "Epale\n",
      "Epale\n",
      "Epale\n"
     ]
    }
   ],
   "source": [
    "# Ciclos infinitos\n",
    "num1 = 5\n",
    "while num1 < 10:\n",
    "    print (\"Epale\")\n",
    "    num1 = num1 + 1\n"
   ]
  },
  {
   "cell_type": "code",
   "execution_count": 5,
   "metadata": {},
   "outputs": [],
   "source": [
    "# funciones\n",
    "def suma_dos( ):\n",
    "    num_a = 20\n",
    "    num_b = 30\n",
    "    return num_a + num_b"
   ]
  },
  {
   "cell_type": "code",
   "execution_count": 6,
   "metadata": {},
   "outputs": [
    {
     "data": {
      "text/plain": [
       "50"
      ]
     },
     "execution_count": 6,
     "metadata": {},
     "output_type": "execute_result"
    }
   ],
   "source": [
    "suma_dos()"
   ]
  },
  {
   "cell_type": "code",
   "execution_count": 2,
   "metadata": {},
   "outputs": [],
   "source": [
    "# funciones\n",
    "def suma_dos(num_a, num_b):\n",
    "    result = num_a + num_b\n",
    "    return num_a + num_b"
   ]
  },
  {
   "cell_type": "code",
   "execution_count": 4,
   "metadata": {},
   "outputs": [
    {
     "data": {
      "text/plain": [
       "11"
      ]
     },
     "execution_count": 4,
     "metadata": {},
     "output_type": "execute_result"
    }
   ],
   "source": [
    "suma_dos(1, 10)"
   ]
  },
  {
   "cell_type": "code",
   "execution_count": 7,
   "metadata": {},
   "outputs": [],
   "source": [
    "# funciones\n",
    "def suma_dos(num_a=1, num_b=1):\n",
    "    result = num_a + num_b\n",
    "    return num_a + num_b"
   ]
  },
  {
   "cell_type": "code",
   "execution_count": 8,
   "metadata": {},
   "outputs": [
    {
     "data": {
      "text/plain": [
       "10"
      ]
     },
     "execution_count": 8,
     "metadata": {},
     "output_type": "execute_result"
    }
   ],
   "source": [
    "suma_dos(5, 5)"
   ]
  }
 ],
 "metadata": {
  "kernelspec": {
   "display_name": "Python 3",
   "language": "python",
   "name": "python3"
  },
  "language_info": {
   "codemirror_mode": {
    "name": "ipython",
    "version": 3
   },
   "file_extension": ".py",
   "mimetype": "text/x-python",
   "name": "python",
   "nbconvert_exporter": "python",
   "pygments_lexer": "ipython3",
   "version": "3.12.5"
  }
 },
 "nbformat": 4,
 "nbformat_minor": 2
}
